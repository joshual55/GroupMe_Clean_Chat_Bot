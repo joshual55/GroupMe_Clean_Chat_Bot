{
 "cells": [
  {
   "attachments": {},
   "cell_type": "markdown",
   "id": "c8834822",
   "metadata": {},
   "source": [
    "https://www.kaggle.com/code/luanafelbarros/detecting-hate-speech-and-offensive-language\n",
    "\n",
    "This website and the code on it were used as a reference for our work."
   ]
  },
  {
   "cell_type": "code",
   "execution_count": 196,
   "id": "f13a6a86",
   "metadata": {},
   "outputs": [],
   "source": [
    "import numpy as np\n",
    "import pandas as pd\n",
    "import matplotlib.pyplot as plt\n",
    "from nltk.tokenize import TweetTokenizer\n",
    "from sklearn.feature_extraction.text import CountVectorizer\n",
    "import re\n",
    "import json\n",
    "import os\n",
    "import time\n",
    "import pickle\n",
    "\n",
    "df = pd.read_csv('labeled_data.csv')"
   ]
  },
  {
   "cell_type": "code",
   "execution_count": 197,
   "id": "fde3d149",
   "metadata": {},
   "outputs": [],
   "source": [
    "df = df[['class', 'tweet']]"
   ]
  },
  {
   "cell_type": "code",
   "execution_count": 198,
   "id": "f29960ef",
   "metadata": {},
   "outputs": [
    {
     "name": "stderr",
     "output_type": "stream",
     "text": [
      "C:\\Users\\15404\\AppData\\Local\\Temp/ipykernel_20824/3878713545.py:11: SettingWithCopyWarning: \n",
      "A value is trying to be set on a copy of a slice from a DataFrame\n",
      "\n",
      "See the caveats in the documentation: https://pandas.pydata.org/pandas-docs/stable/user_guide/indexing.html#returning-a-view-versus-a-copy\n",
      "  df['tweet'][i] = review\n"
     ]
    }
   ],
   "source": [
    "\n",
    "for i in range(24783):\n",
    "    tweet = df['tweet'][i]\n",
    "    review = re.sub(r\"@[A-Za-z0-9_]+\", \" \", tweet)\n",
    "    review = re.sub('RT', ' ', review)\n",
    "    review = re.sub(r\"https?://[A-Za-z0-9./]+\", \" \", review)\n",
    "    review = re.sub(r\"https?\", \" \", review)\n",
    "    review = re.sub('[^a-zA-Z]', ' ', review)\n",
    "    review = review.lower()\n",
    "    review = review.split()\n",
    "    review = ' '.join(review)\n",
    "    df['tweet'][i] = review\n"
   ]
  },
  {
   "cell_type": "code",
   "execution_count": 199,
   "id": "df264b3f",
   "metadata": {},
   "outputs": [
    {
     "name": "stdout",
     "output_type": "stream",
     "text": [
      "<class 'pandas.core.frame.DataFrame'>\n",
      "RangeIndex: 24783 entries, 0 to 24782\n",
      "Data columns (total 2 columns):\n",
      " #   Column  Non-Null Count  Dtype \n",
      "---  ------  --------------  ----- \n",
      " 0   class   24783 non-null  int64 \n",
      " 1   tweet   24783 non-null  object\n",
      "dtypes: int64(1), object(1)\n",
      "memory usage: 387.4+ KB\n"
     ]
    }
   ],
   "source": [
    "df.info()"
   ]
  },
  {
   "cell_type": "code",
   "execution_count": 200,
   "id": "bc441213",
   "metadata": {},
   "outputs": [],
   "source": [
    "train_x = df['tweet'][0:22304]\n",
    "train_y = df['class'][0:22304]\n",
    "test_x = df['tweet'][22305:24781]\n",
    "test_y = df['class'][22305:24781]"
   ]
  },
  {
   "cell_type": "code",
   "execution_count": 201,
   "id": "f59612e5",
   "metadata": {},
   "outputs": [],
   "source": [
    "def tokenize(xtrain, xtest):\n",
    "    tok = TweetTokenizer()\n",
    "    vec = CountVectorizer(analyzer=\"word\", tokenizer=tok.tokenize, max_features=1010)\n",
    "    xtrain = vec.fit_transform(xtrain).toarray()\n",
    "    xtest = vec.transform(xtest).toarray()\n",
    "    return xtrain, xtest\n",
    "\n",
    "train_x, test_x = tokenize(train_x, test_x)\n",
    "    "
   ]
  },
  {
   "cell_type": "code",
   "execution_count": 202,
   "id": "6226b017",
   "metadata": {},
   "outputs": [
    {
     "name": "stdout",
     "output_type": "stream",
     "text": [
      "[Training Time]: 114.8 seconds\n"
     ]
    }
   ],
   "source": [
    "from sklearn.svm import SVC, LinearSVC\n",
    "\n",
    "svm = SVC(kernel='linear', random_state=42)\n",
    "\n",
    "st = time.time()\n",
    "svm.fit(train_x, train_y)\n",
    "et1 = time.time()\n",
    "\n",
    "print('[Training Time]: {:.1f} seconds'.format(et1 - st))"
   ]
  },
  {
   "cell_type": "code",
   "execution_count": 203,
   "id": "568f0a65",
   "metadata": {},
   "outputs": [
    {
     "name": "stdout",
     "output_type": "stream",
     "text": [
      "[SVM] Training accuracy: 92.14%, Validation accuracy: 91.52%\n"
     ]
    }
   ],
   "source": [
    "def model_accuracy(model, x, true_y):\n",
    "    pred = model.predict(x)\n",
    "    return np.sum(pred == true_y) / true_y.shape[0]\n",
    "\n",
    "def evaluate_model(name, model, train_x, train_y, val_x, val_y):\n",
    "    train_acc = model_accuracy(model, train_x, train_y)\n",
    "    val_acc = model_accuracy(model, val_x, val_y)\n",
    "    print('[{}] Training accuracy: {:.2f}%, Validation accuracy: {:.2f}%'.format(name, train_acc*100, val_acc*100))\n",
    "    \n",
    "evaluate_model('SVM', svm, train_x, train_y, test_x, test_y)"
   ]
  },
  {
   "cell_type": "code",
   "execution_count": 204,
   "id": "620fbe43",
   "metadata": {},
   "outputs": [],
   "source": [
    "pickle.dump(svm, open('model.sav', 'wb'))"
   ]
  },
  {
   "cell_type": "code",
   "execution_count": null,
   "id": "a23f9d6f",
   "metadata": {},
   "outputs": [],
   "source": []
  },
  {
   "cell_type": "code",
   "execution_count": null,
   "id": "f7d30458",
   "metadata": {},
   "outputs": [],
   "source": []
  }
 ],
 "metadata": {
  "kernelspec": {
   "display_name": "base",
   "language": "python",
   "name": "python3"
  },
  "language_info": {
   "codemirror_mode": {
    "name": "ipython",
    "version": 3
   },
   "file_extension": ".py",
   "mimetype": "text/x-python",
   "name": "python",
   "nbconvert_exporter": "python",
   "pygments_lexer": "ipython3",
   "version": "3.9.12 (main, Apr  4 2022, 05:22:27) [MSC v.1916 64 bit (AMD64)]"
  },
  "vscode": {
   "interpreter": {
    "hash": "ad2bdc8ecc057115af97d19610ffacc2b4e99fae6737bb82f5d7fb13d2f2c186"
   }
  }
 },
 "nbformat": 4,
 "nbformat_minor": 5
}
